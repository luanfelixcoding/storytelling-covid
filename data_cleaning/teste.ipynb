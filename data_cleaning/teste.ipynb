{
 "cells": [
  {
   "cell_type": "code",
   "execution_count": 3,
   "id": "bc5e8f2c",
   "metadata": {},
   "outputs": [],
   "source": [
    "import pandas as pd"
   ]
  },
  {
   "cell_type": "code",
   "execution_count": 7,
   "id": "f5c8f6d2",
   "metadata": {},
   "outputs": [
    {
     "data": {
      "text/plain": [
       "Index(['NU_ANO_CENSO', 'UNIDGEO', 'NO_CATEGORIA', 'NO_DEPENDENCIA',\n",
       "       '1_CAT_FUN', '1_CAT_FUN_AI', '1_CAT_FUN_AF', '1_CAT_FUN_01',\n",
       "       '1_CAT_FUN_02', '1_CAT_FUN_03', '1_CAT_FUN_04', '1_CAT_FUN_05',\n",
       "       '1_CAT_FUN_06', '1_CAT_FUN_07', '1_CAT_FUN_08', '1_CAT_FUN_09',\n",
       "       '1_CAT_MED', '1_CAT_MED_01', '1_CAT_MED_02', '1_CAT_MED_03',\n",
       "       '1_CAT_MED_04', '1_CAT_MED_NS', '2_CAT_FUN', '2_CAT_FUN_AI',\n",
       "       '2_CAT_FUN_AF', '2_CAT_FUN_01', '2_CAT_FUN_02', '2_CAT_FUN_03',\n",
       "       '2_CAT_FUN_04', '2_CAT_FUN_05', '2_CAT_FUN_06', '2_CAT_FUN_07',\n",
       "       '2_CAT_FUN_08', '2_CAT_FUN_09', '2_CAT_MED', '2_CAT_MED_01',\n",
       "       '2_CAT_MED_02', '2_CAT_MED_03', '2_CAT_MED_04', '2_CAT_MED_NS',\n",
       "       '3_CAT_FUN', '3_CAT_FUN_AI', '3_CAT_FUN_AF', '3_CAT_FUN_01',\n",
       "       '3_CAT_FUN_02', '3_CAT_FUN_03', '3_CAT_FUN_04', '3_CAT_FUN_05',\n",
       "       '3_CAT_FUN_06', '3_CAT_FUN_07', '3_CAT_FUN_08', '3_CAT_FUN_09',\n",
       "       '3_CAT_MED', '3_CAT_MED_01', '3_CAT_MED_02', '3_CAT_MED_03',\n",
       "       '3_CAT_MED_04', '3_CAT_MED_NS'],\n",
       "      dtype='object')"
      ]
     },
     "execution_count": 7,
     "metadata": {},
     "output_type": "execute_result"
    }
   ],
   "source": [
    "df = pd.read_csv(\"C:/Users/INFORMATICO/Desktop/storytelling-covid/datasets/clean_data/rendimento_escolar/2021/tx_rend_brasil_regioes_ufs_2021.csv\", skiprows=8)\n",
    "\n",
    "df.columns\n"
   ]
  },
  {
   "cell_type": "code",
   "execution_count": null,
   "id": "f77bfc09",
   "metadata": {},
   "outputs": [
    {
     "data": {
      "text/plain": [
       "0        5\n",
       "1      4.8\n",
       "2      6.8\n",
       "3      1.9\n",
       "4      1.9\n",
       "      ... \n",
       "583    1.3\n",
       "584    1.4\n",
       "585    1.3\n",
       "586    NaN\n",
       "587    NaN\n",
       "Name: 3_CAT_MED, Length: 588, dtype: object"
      ]
     },
     "execution_count": 13,
     "metadata": {},
     "output_type": "execute_result"
    }
   ],
   "source": [
    "\"\"\"\n",
    "NU_ANO_CENSO\tUNIDGEO\tNO_CATEGORIA\tNO_DEPENDENCIA\t1_CAT_FUN\n",
    "1_CAT_MED\n",
    "2_CAT_FUN\n",
    "2_CAT_MED\n",
    "3_CAT_FUN\n",
    "3_CAT_MED\n",
    "\"\"\" "
   ]
  },
  {
   "cell_type": "code",
   "execution_count": null,
   "id": "ddcceb27",
   "metadata": {},
   "outputs": [],
   "source": []
  }
 ],
 "metadata": {
  "kernelspec": {
   "display_name": ".venv",
   "language": "python",
   "name": "python3"
  },
  "language_info": {
   "codemirror_mode": {
    "name": "ipython",
    "version": 3
   },
   "file_extension": ".py",
   "mimetype": "text/x-python",
   "name": "python",
   "nbconvert_exporter": "python",
   "pygments_lexer": "ipython3",
   "version": "3.12.6"
  }
 },
 "nbformat": 4,
 "nbformat_minor": 5
}
